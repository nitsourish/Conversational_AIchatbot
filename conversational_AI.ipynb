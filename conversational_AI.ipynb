{
 "cells": [
  {
   "cell_type": "markdown",
   "id": "d240de17",
   "metadata": {},
   "source": [
    "## This notebook is an illustration in developing and deploying a conversational AI to answer queries related to certain banking products - Credit Cards "
   ]
  },
  {
   "cell_type": "markdown",
   "id": "62b685c1-fe44-4f01-b9e3-5808cf10752f",
   "metadata": {},
   "source": [
    "## Create Vector database\n",
    "\n",
    "### Implement Document Splitting"
   ]
  },
  {
   "cell_type": "markdown",
   "id": "6bed94b7-d5da-4c5b-a812-25ecbb1601a6",
   "metadata": {},
   "source": [
    "### Install libraries"
   ]
  },
  {
   "cell_type": "code",
   "execution_count": 1,
   "id": "603889ff-e355-4c9e-929a-45e8150aa0f7",
   "metadata": {},
   "outputs": [
    {
     "name": "stdout",
     "output_type": "stream",
     "text": [
      "Requirement already satisfied: openai in /opt/homebrew/lib/python3.10/site-packages (0.28.1)\n",
      "Requirement already satisfied: requests>=2.20 in /opt/homebrew/lib/python3.10/site-packages (from openai) (2.32.3)\n",
      "Requirement already satisfied: tqdm in /opt/homebrew/lib/python3.10/site-packages (from openai) (4.66.5)\n",
      "Requirement already satisfied: aiohttp in /opt/homebrew/lib/python3.10/site-packages (from openai) (3.10.0)\n",
      "Requirement already satisfied: charset-normalizer<4,>=2 in /opt/homebrew/lib/python3.10/site-packages (from requests>=2.20->openai) (3.3.2)\n",
      "Requirement already satisfied: idna<4,>=2.5 in /opt/homebrew/lib/python3.10/site-packages (from requests>=2.20->openai) (3.6)\n",
      "Requirement already satisfied: urllib3<3,>=1.21.1 in /opt/homebrew/lib/python3.10/site-packages (from requests>=2.20->openai) (2.1.0)\n",
      "Requirement already satisfied: certifi>=2017.4.17 in /opt/homebrew/lib/python3.10/site-packages (from requests>=2.20->openai) (2023.11.17)\n",
      "Requirement already satisfied: aiohappyeyeballs>=2.3.0 in /opt/homebrew/lib/python3.10/site-packages (from aiohttp->openai) (2.3.4)\n",
      "Requirement already satisfied: aiosignal>=1.1.2 in /opt/homebrew/lib/python3.10/site-packages (from aiohttp->openai) (1.3.1)\n",
      "Requirement already satisfied: attrs>=17.3.0 in /opt/homebrew/lib/python3.10/site-packages (from aiohttp->openai) (23.2.0)\n",
      "Requirement already satisfied: frozenlist>=1.1.1 in /opt/homebrew/lib/python3.10/site-packages (from aiohttp->openai) (1.4.1)\n",
      "Requirement already satisfied: multidict<7.0,>=4.5 in /opt/homebrew/lib/python3.10/site-packages (from aiohttp->openai) (6.0.5)\n",
      "Requirement already satisfied: yarl<2.0,>=1.0 in /opt/homebrew/lib/python3.10/site-packages (from aiohttp->openai) (1.9.4)\n",
      "Requirement already satisfied: async-timeout<5.0,>=4.0 in /opt/homebrew/lib/python3.10/site-packages (from aiohttp->openai) (4.0.3)\n",
      "Note: you may need to restart the kernel to use updated packages.\n"
     ]
    }
   ],
   "source": [
    "% pip install openai"
   ]
  },
  {
   "cell_type": "code",
   "execution_count": 2,
   "id": "759ae117-0aa2-4c09-b5bd-7ce1e106ada2",
   "metadata": {},
   "outputs": [
    {
     "name": "stdout",
     "output_type": "stream",
     "text": [
      "Requirement already satisfied: python-dotenv in /opt/homebrew/lib/python3.10/site-packages (1.0.1)\n",
      "Note: you may need to restart the kernel to use updated packages.\n"
     ]
    }
   ],
   "source": [
    "pip install python-dotenv"
   ]
  },
  {
   "cell_type": "code",
   "execution_count": null,
   "id": "dd511c5a",
   "metadata": {},
   "outputs": [],
   "source": [
    "pip install langchain"
   ]
  },
  {
   "cell_type": "code",
   "execution_count": 25,
   "id": "ca531938",
   "metadata": {},
   "outputs": [
    {
     "name": "stdout",
     "output_type": "stream",
     "text": [
      "Requirement already satisfied: langchain-openai in /opt/homebrew/lib/python3.10/site-packages (0.2.0)\n",
      "Requirement already satisfied: langchain-core<0.4,>=0.3 in /opt/homebrew/lib/python3.10/site-packages (from langchain-openai) (0.3.0)\n",
      "Requirement already satisfied: openai<2.0.0,>=1.40.0 in /opt/homebrew/lib/python3.10/site-packages (from langchain-openai) (1.51.0)\n",
      "Requirement already satisfied: tiktoken<1,>=0.7 in /opt/homebrew/lib/python3.10/site-packages (from langchain-openai) (0.7.0)\n",
      "Requirement already satisfied: PyYAML>=5.3 in /opt/homebrew/lib/python3.10/site-packages (from langchain-core<0.4,>=0.3->langchain-openai) (6.0.1)\n",
      "Requirement already satisfied: jsonpatch<2.0,>=1.33 in /opt/homebrew/lib/python3.10/site-packages (from langchain-core<0.4,>=0.3->langchain-openai) (1.33)\n",
      "Requirement already satisfied: langsmith<0.2.0,>=0.1.117 in /opt/homebrew/lib/python3.10/site-packages (from langchain-core<0.4,>=0.3->langchain-openai) (0.1.121)\n",
      "Requirement already satisfied: packaging<25,>=23.2 in /Users/aifora/Library/Python/3.10/lib/python/site-packages (from langchain-core<0.4,>=0.3->langchain-openai) (23.2)\n",
      "Requirement already satisfied: pydantic<3.0.0,>=2.5.2 in /opt/homebrew/lib/python3.10/site-packages (from langchain-core<0.4,>=0.3->langchain-openai) (2.9.1)\n",
      "Requirement already satisfied: tenacity!=8.4.0,<9.0.0,>=8.1.0 in /opt/homebrew/lib/python3.10/site-packages (from langchain-core<0.4,>=0.3->langchain-openai) (8.5.0)\n",
      "Requirement already satisfied: typing-extensions>=4.7 in /opt/homebrew/lib/python3.10/site-packages (from langchain-core<0.4,>=0.3->langchain-openai) (4.11.0)\n",
      "Requirement already satisfied: anyio<5,>=3.5.0 in /opt/homebrew/lib/python3.10/site-packages (from openai<2.0.0,>=1.40.0->langchain-openai) (4.4.0)\n",
      "Requirement already satisfied: distro<2,>=1.7.0 in /opt/homebrew/lib/python3.10/site-packages (from openai<2.0.0,>=1.40.0->langchain-openai) (1.9.0)\n",
      "Requirement already satisfied: httpx<1,>=0.23.0 in /opt/homebrew/lib/python3.10/site-packages (from openai<2.0.0,>=1.40.0->langchain-openai) (0.27.2)\n",
      "Requirement already satisfied: jiter<1,>=0.4.0 in /opt/homebrew/lib/python3.10/site-packages (from openai<2.0.0,>=1.40.0->langchain-openai) (0.5.0)\n",
      "Requirement already satisfied: sniffio in /opt/homebrew/lib/python3.10/site-packages (from openai<2.0.0,>=1.40.0->langchain-openai) (1.3.1)\n",
      "Requirement already satisfied: tqdm>4 in /opt/homebrew/lib/python3.10/site-packages (from openai<2.0.0,>=1.40.0->langchain-openai) (4.66.5)\n",
      "Requirement already satisfied: regex>=2022.1.18 in /opt/homebrew/lib/python3.10/site-packages (from tiktoken<1,>=0.7->langchain-openai) (2024.9.11)\n",
      "Requirement already satisfied: requests>=2.26.0 in /opt/homebrew/lib/python3.10/site-packages (from tiktoken<1,>=0.7->langchain-openai) (2.32.3)\n",
      "Requirement already satisfied: idna>=2.8 in /opt/homebrew/lib/python3.10/site-packages (from anyio<5,>=3.5.0->openai<2.0.0,>=1.40.0->langchain-openai) (3.6)\n",
      "Requirement already satisfied: exceptiongroup>=1.0.2 in /Users/aifora/Library/Python/3.10/lib/python/site-packages (from anyio<5,>=3.5.0->openai<2.0.0,>=1.40.0->langchain-openai) (1.2.0)\n",
      "Requirement already satisfied: certifi in /opt/homebrew/lib/python3.10/site-packages (from httpx<1,>=0.23.0->openai<2.0.0,>=1.40.0->langchain-openai) (2023.11.17)\n",
      "Requirement already satisfied: httpcore==1.* in /opt/homebrew/lib/python3.10/site-packages (from httpx<1,>=0.23.0->openai<2.0.0,>=1.40.0->langchain-openai) (1.0.5)\n",
      "Requirement already satisfied: h11<0.15,>=0.13 in /opt/homebrew/lib/python3.10/site-packages (from httpcore==1.*->httpx<1,>=0.23.0->openai<2.0.0,>=1.40.0->langchain-openai) (0.14.0)\n",
      "Requirement already satisfied: jsonpointer>=1.9 in /opt/homebrew/lib/python3.10/site-packages (from jsonpatch<2.0,>=1.33->langchain-core<0.4,>=0.3->langchain-openai) (3.0.0)\n",
      "Requirement already satisfied: orjson<4.0.0,>=3.9.14 in /opt/homebrew/lib/python3.10/site-packages (from langsmith<0.2.0,>=0.1.117->langchain-core<0.4,>=0.3->langchain-openai) (3.10.7)\n",
      "Requirement already satisfied: annotated-types>=0.6.0 in /opt/homebrew/lib/python3.10/site-packages (from pydantic<3.0.0,>=2.5.2->langchain-core<0.4,>=0.3->langchain-openai) (0.7.0)\n",
      "Requirement already satisfied: pydantic-core==2.23.3 in /opt/homebrew/lib/python3.10/site-packages (from pydantic<3.0.0,>=2.5.2->langchain-core<0.4,>=0.3->langchain-openai) (2.23.3)\n",
      "Requirement already satisfied: charset-normalizer<4,>=2 in /opt/homebrew/lib/python3.10/site-packages (from requests>=2.26.0->tiktoken<1,>=0.7->langchain-openai) (3.3.2)\n",
      "Requirement already satisfied: urllib3<3,>=1.21.1 in /opt/homebrew/lib/python3.10/site-packages (from requests>=2.26.0->tiktoken<1,>=0.7->langchain-openai) (2.1.0)\n",
      "Note: you may need to restart the kernel to use updated packages.\n"
     ]
    }
   ],
   "source": [
    "pip install langchain-openai"
   ]
  },
  {
   "cell_type": "code",
   "execution_count": null,
   "id": "4a1839e2",
   "metadata": {},
   "outputs": [],
   "source": [
    "pip install pypdf"
   ]
  },
  {
   "cell_type": "code",
   "execution_count": null,
   "id": "69c527ad",
   "metadata": {},
   "outputs": [],
   "source": [
    "pip install faiss-cpu"
   ]
  },
  {
   "cell_type": "code",
   "execution_count": null,
   "id": "5f9fcee4",
   "metadata": {},
   "outputs": [],
   "source": [
    "pip install langchainhub"
   ]
  },
  {
   "cell_type": "code",
   "execution_count": null,
   "id": "5f9fcee4",
   "metadata": {},
   "outputs": [],
   "source": [
    "pip install langchain-community"
   ]
  },
  {
   "cell_type": "markdown",
   "id": "a2191b2b-67cd-4294-8c08-8b05f858b9fc",
   "metadata": {},
   "source": [
    "## Load & Split PDF documents into chunks"
   ]
  },
  {
   "cell_type": "code",
   "execution_count": 4,
   "id": "e93cdcab",
   "metadata": {},
   "outputs": [
    {
     "name": "stderr",
     "output_type": "stream",
     "text": [
      "Ignoring wrong pointing object 6 0 (offset 0)\n",
      "Ignoring wrong pointing object 8 0 (offset 0)\n",
      "Ignoring wrong pointing object 10 0 (offset 0)\n"
     ]
    }
   ],
   "source": [
    "#list all the files in ../credit_card_products\n",
    "from langchain.document_loaders import PyPDFLoader\n",
    "import os\n",
    "loaders = []\n",
    "for file in os.listdir(\"../credit_card_products\"):\n",
    "    if file.endswith(\".pdf\"):\n",
    "        loaders.append(file)     \n",
    "pdf_loaders = [PyPDFLoader(f\"../credit_card_products/{file}\") for file in loaders]\n",
    "\n",
    "pages = []\n",
    "\n",
    "for loader in pdf_loaders:\n",
    "    pages.extend(loader.load())"
   ]
  },
  {
   "cell_type": "code",
   "execution_count": 5,
   "id": "fdd67ee4",
   "metadata": {},
   "outputs": [],
   "source": [
    "from langchain.text_splitter import CharacterTextSplitter\n",
    "text_splitter = CharacterTextSplitter(\n",
    "    separator=\"\\n\",\n",
    "    chunk_size=1500,\n",
    "    chunk_overlap=100,\n",
    "    length_function=len\n",
    ")\n",
    "docs = text_splitter.split_documents(pages)"
   ]
  },
  {
   "cell_type": "code",
   "execution_count": 12,
   "id": "af6206ad",
   "metadata": {},
   "outputs": [
    {
     "data": {
      "text/plain": [
       "195"
      ]
     },
     "execution_count": 12,
     "metadata": {},
     "output_type": "execute_result"
    }
   ],
   "source": [
    "len(docs)"
   ]
  },
  {
   "cell_type": "code",
   "execution_count": 13,
   "id": "a1681f68",
   "metadata": {},
   "outputs": [
    {
     "data": {
      "text/plain": [
       "Document(metadata={'source': '../credit_card_products/Citi® _ AAdvantage® Executive - Airline Miles Credit Card _ Citi.com.pdf', 'page': 1}, page_content=\"purchas es.\\nLoyalty Points Bonus es\\nEarn a 10,000 L oyalty Points bonus aft er reaching\\n50,000 L oyalty Points in a s tatus qualiﬁc ation y ear.\\nEarn ano ther 10,000 L oyalty Points bonus aft er\\nreaching 90,000 L oyalty Points in the s ame s tatus\\nqualiﬁc ation y ear.Admir als Club  Member ship\\nInclude s access to nearly 100 A dmir als Club  and p artner\\nlounge s worldwide . Immediat e family ( spous e, dome stic\\npartner and/ or childr en under 18) or up t o 2 gue sts ma y join\\nyou. Up t o $850 v alue.\\nRedeeming AA dvantage  Mile s\\nUse your AA dvantage  mile s earned fr om y our C iti /\\nAAdvantage  Executive card for award travel to over 1,000\\ndestinations w orldwide , with ﬂe xible r edemp tion op tions f or\\none- way or r ound trip a wards on Americ an Airline s. Your\\nAAdvantage  mile s can als o be r edeemed f or Busine ss and\\nFirst Clas s upgr ades, car rentals, hotel stays or v acation\\npackages. The choic e is y ours.\\nNo Mile age C ap\\nThere's no limit t o the number o f AA dvantage  mile s you can\\nearn with y our C iti / AA dvantage  Executive card.\\nEXCEPTIONAL TRAVEL AND OTHER BENEFITS2\\n® ® ®\\n® ® ®\\n®\\n®\\n®\\n2\\n®\\n2\\n®\\n2\\n®\\n®\\n2\\n®\\n2®\\n®\\n2\\n®\\n® ®\\n®\\n®\\n®\\n® ®\\nApply No w (https://online .citi.com10/3/24, 3:28 PM Citi® / AAdvantage® Executive - Airline Miles Credit Card | Citi.com\\nhttps://www.citi.com/credit-cards/citi-aadvantage-executive-credit-card?category=view-all-credit-cards&intc=citicard_vac_202405_AB&afc=1C2 2/6\")"
      ]
     },
     "execution_count": 13,
     "metadata": {},
     "output_type": "execute_result"
    }
   ],
   "source": [
    "docs[3]"
   ]
  },
  {
   "cell_type": "code",
   "execution_count": 15,
   "id": "72e56bbc-371c-4cae-8d53-25a741c275b2",
   "metadata": {},
   "outputs": [
    {
     "data": {
      "text/plain": [
       "Document(metadata={'source': '../credit_card_products/Citi® Double Cash Card - Cash Back Credit Card _ Citi.com.pdf', 'page': 1}, page_content=\"This o ffer is a vailable if y ou apply thr ough the me thod( s) provided in this ad t oday. Offers ma y vary and this o ffer ma y not be\\navailable in o ther plac es wher e the c ard is o ffered.\\nAdditional In formation +\\nFrequen tly Ask ed Que stions\\nCASH BACK CREDIT CARD REWARDS & PROGRAM DETAILS\\nApply no w for one o f Citi's best cash b ack cr edit c ards, with no c aps and no c ategory r estrictions . Earn c ash b ack r ewards in e very\\npurchas e with the C iti Double C ash  Card. You earn unlimit ed 1% c ash b ack on pur chas es made with y our c ash b ack cr edit c ard, plus\\nanother 1% c ash b ack as y ou pay for tho se pur chas es, whe ther y ou pay in full or o ver time .\\nCash b ack is e arned in the f orm o f ThankY ou Points. This me ans e ach billing c ycle, you will e arn 1 T hankY ou poin t per $1 spen t on\\npurchas es and an additional T hankY ou poin t for every $1 p aid on y our pur chas e balanc e as long as ther e is a c orresponding b alanc e\\nin your Pur chas e Tracker.\\nRedeem y our poin ts for cash b ack as a s tatemen t credit, direct depo sit or check. Or e xplor e other w ays to redeem poin ts including f or\\ngift c ards, travel and Shop with P oints at Amaz on.com\\nFor mor e information, ple ase visit the Citi Double C ash  Additional In formation P age (credit-cards/citi-double-c ash-cr edit-\\ncard/additional-in formation )\\n$200 Cash\\nBack B onus:\\nEarn $ 200 cash b ack\\nwhen y ou spend\\n$1,500  on pur chas es\\nwithin the ﬁr st 6\\nmonths o f opening\")"
      ]
     },
     "execution_count": 15,
     "metadata": {},
     "output_type": "execute_result"
    }
   ],
   "source": [
    "docs[41]"
   ]
  },
  {
   "cell_type": "code",
   "execution_count": 14,
   "id": "c90f1a43-c887-4ccf-8dae-7980d51f320e",
   "metadata": {},
   "outputs": [
    {
     "data": {
      "text/plain": [
       "Document(metadata={'source': '../credit_card_products/AT&T Points Plus® - Rewards Credit Card _ Citi.com.pdf', 'page': 3}, page_content='Additional In formation\\nApply No w (https://online .citi.com/US /ag/cards/applic ation ?app=UNSOL &HKOP=62b5f e3cf6f ac441d6d2ab156b7016c7280e552672\\nFIND THE RIGHT CREDIT CARD FOR YOU\\nAll Cr edit C ards\\n(https://www .citi.com/credit-\\ncards/comp are/view-all-cr edit-\\ncards?\\nintc=citic ard_vac_202405_AB &afc=1C2)Rewards Cards\\n(https://www .citi.com/credit-\\ncards/comp are/rewards-credit-\\ncards?\\nintc=citic ard_vac_202405_AB &afc=1C2)Travel Cards\\n(https://www .citi.com/credit-\\ncards/comp are/travel-reward-\\ncredit-cards?\\nintc=citic ard_vac_202405_AB &afc=1C2)0 %\\n0% In tro AP\\n(https://www .cit\\ncards/comp are/0-\\napr-credit-\\nintc=citic ard_vac_2\\n®\\n1\\n2\\nWhy Citi\\nWealth Managemen t\\nBusine ss Banking\\nRates\\nApply No w (https://online .citi.com10/3/24, 3:34 PM AT&T Points Plus® - Rewards Credit Card | Citi.com\\nhttps://www.citi.com/credit-cards/citi-att-pointsplus-credit-card?category=view-all-credit-cards&intc=citicard_vac_202405_AB&afc=1C2 4/5')"
      ]
     },
     "execution_count": 14,
     "metadata": {},
     "output_type": "execute_result"
    }
   ],
   "source": [
    "docs[20]"
   ]
  },
  {
   "cell_type": "markdown",
   "id": "0b25f673",
   "metadata": {},
   "source": [
    "## Generate embeddings and store in vector database\n",
    "### FAISS(Facebook AI Similarity Search) vector database"
   ]
  },
  {
   "cell_type": "code",
   "execution_count": 2,
   "id": "5e19bc09",
   "metadata": {},
   "outputs": [],
   "source": [
    "import os\n",
    "\n",
    "from dotenv import load_dotenv, find_dotenv\n",
    "_ = load_dotenv(find_dotenv()) \n",
    "\n",
    "OPENAI_API_KEY=os.environ['OPENAI_API_KEY']"
   ]
  },
  {
   "cell_type": "code",
   "execution_count": 7,
   "id": "686e6ff8",
   "metadata": {},
   "outputs": [],
   "source": [
    "from langchain_openai import OpenAIEmbeddings\n",
    "from langchain_community.vectorstores import FAISS\n",
    "embeddings_model = OpenAIEmbeddings(openai_api_key=OPENAI_API_KEY, model=\"text-embedding-3-small\")\n",
    "# Load it into the vector store and embed\n",
    "vectordb = FAISS.from_documents(docs, embeddings_model)"
   ]
  },
  {
   "cell_type": "code",
   "execution_count": 8,
   "id": "c6a8ea3d",
   "metadata": {},
   "outputs": [
    {
     "name": "stdout",
     "output_type": "stream",
     "text": [
      "195\n"
     ]
    }
   ],
   "source": [
    "print(vectordb.index.ntotal)"
   ]
  },
  {
   "cell_type": "markdown",
   "id": "5c1cf21c",
   "metadata": {},
   "source": [
    "### Persist Data in Vector Store"
   ]
  },
  {
   "cell_type": "code",
   "execution_count": 9,
   "id": "137ee241",
   "metadata": {},
   "outputs": [],
   "source": [
    "vectordb.save_local(\"faiss2_credit_card_index\")"
   ]
  },
  {
   "cell_type": "markdown",
   "id": "48015429",
   "metadata": {},
   "source": [
    "### Load Vector Store"
   ]
  },
  {
   "cell_type": "code",
   "execution_count": 10,
   "id": "06d42f19",
   "metadata": {},
   "outputs": [
    {
     "data": {
      "text/plain": [
       "195"
      ]
     },
     "execution_count": 10,
     "metadata": {},
     "output_type": "execute_result"
    }
   ],
   "source": [
    "new_db = FAISS.load_local(\"faiss2_credit_card_index\", embeddings_model, allow_dangerous_deserialization=True)\n",
    "new_db.index.ntotal"
   ]
  },
  {
   "cell_type": "markdown",
   "id": "b2ef73a8",
   "metadata": {},
   "source": [
    "## Perform semantic search"
   ]
  },
  {
   "cell_type": "code",
   "execution_count": 15,
   "id": "5f9f6f96",
   "metadata": {},
   "outputs": [
    {
     "name": "stdout",
     "output_type": "stream",
     "text": [
      "The output is: CITI DISCLOSURES\n",
      "Interest Rates and Interest Charges\n",
      "Annual Percentage Rate (APR)\n",
      "for Purchases 20.74% to 28.74%, based on your creditworthiness.\n",
      "These APRs will vary with the market based on the Prime Rate.a\n",
      "APR for Balance Transfers20.74% to 28.74%, based on your creditworthiness, for transfers\n",
      "completed within 2 months from date of account opening.\n",
      "These APRs will vary with the market based on the Prime Rate.a\n",
      "APR for Cash Advances29.99%\n",
      "This APR will vary with the market based on the Prime Rate.b\n",
      "APR for Citi Flex Plan20.74% to 28.74%, based on your creditworthiness.\n",
      "These APRs will vary with the market based on the Prime Rate.a\n",
      "Penalty APR and When it AppliesUp to 29.99%, based on your creditworthiness.\n",
      "This APR will vary with the market based on the Prime Rate.\n",
      "This APR may be applied to your account if you:\n",
      "(1) Make a late payment or\n",
      "(2) Make a payment that is returned.\n",
      "How Long Will the Penalty APR Apply? If your APRs are\n",
      "increased for either of these reasons, the Penalty APR may apply\n",
      "indefinitely.c\n",
      "How to Avoid Paying Interest on\n",
      "PurchasesYour due date is at least 23 days after the close of each billing cycle.\n",
      "We will not charge you interest on purchases if you pay your monthly\n",
      "Citi Flex Plan Payment Amount plus your entire balance, excluding any\n",
      "Citi Flex Plan balances, by the due date each month. If you do not pay\n",
      "your monthly Citi Flex Plan Payment plus your entire balance,\n",
      "excluding any Citi Flex Plan balances, by the due date each month,. \n",
      "\n",
      "The metadata is {'source': '../credit_card_products/Citi Credit Card - Complete Terms and Conditions.pdf', 'page': 0} \n",
      "\n",
      "\n",
      "The output is: We add up to 26.74% to the Prime Rate to determine the Penalty APR.\n",
      "Variable rate APRs will not exceed 29.99%.\n",
      "Note: Balance Transfers and Flex Plans are made available at our discretion.\n",
      "Citi S trata Premier  Card Terms & C onditions\n",
      "Identity Veriﬁc ation\n",
      "IMPOR TANT INFORMA TION ABOUT  PROCEDURES FOR OPENING A NEW ACCOUNT  - To help the\n",
      "government fight the funding of terrorism and money laundering activities, federal law requires all financial\n",
      "institutions to obtain, verify , and record information that identifies each person who opens an account. This\n",
      "means that we will ask for your name, address, date of birth, and other information that will allow us to identify\n",
      "you when you open an account. W e may also ask to see your driver's license or other identifying documents;\n",
      "and obtain identification information about you or any Authorized User you add to your account.\n",
      "Authoriz ation f or the S ocial S ecurity Adminis tration t o Dis close Your S ocial S ecurity Number\n",
      "Veriﬁc ation -  You authorize the Social Security Administration (SSA) to verify and disclose to Citibank, N.A.\n",
      "through Experian for the purpose of this transaction whether the name, Social Security Number (SSN) and\n",
      "date of birth you have submitted matches information in SSA  records. Your consent is for a one-time\n",
      "validation within the next 90 days.\n",
      "ABOUT USING YOUR MOBILE PHONE TO APPL Y FOR AN AC COUNT ONLINE. \n",
      "\n",
      "The metadata is {'source': '../credit_card_products/Citi Credit Card - Complete Terms and Conditions.pdf', 'page': 2} \n",
      "\n",
      "\n",
      "The output is: *AMERICAN AIRLINES AADVANTAGE MILEUP CARD PRICING DETAILS\n",
      "The standar d variable APR f or pur chas es and b alanc e transfers is 20.74 % - 29.74 %, based on y our cr editworthine ss. For Citi Fle x Plans\n",
      "subject t o an APR , the v ariable APR is 20.74 %-29.74 %, based on cr editworthine ss. For Citi Fle x Pay Plans subject t o a Plan F ee, a\n",
      "mon thly f ee of up t o 1.72 % will apply , based on the C iti Fle x Plan dur ation, the APR that w ould o therwis e apply t o the T ransaction, and\n",
      "other f actors. The variable APR f or cash adv ances is 29.99 %. The variable P enalt y APR is up t o 29.99% and ma y be applied if y ou mak e\n",
      "a late paymen t or mak e a p aymen t that is r eturned. Minimum in terest char ge is $ 0.50 . Annual F ee – None . Fee for Foreign Pur chas es –\n",
      "3% of the U .S. dollar amoun t of each pur chas e. Cash adv ance fee - either $ 10 or 5% of the amoun t of each c ash adv ance, whiche ver is\n",
      "greater. Balanc e transfer fee - either $ 5 or 5% of the amoun t of each tr ansfer, whiche ver is gr eater. New card member s only . Subject t o\n",
      "credit appr oval. A dditional limit ations , terms and c onditions apply . You will be giv en fur ther in formation when y ou apply .\n",
      "Impor tant Pricing & In formation +  (https://online .citi.com/US /ag/cards/displa yterms ?app=UNSOL &HKOP=bb2aa1f341afb4270f39a44f92f97\n",
      "Additional In formation\n",
      "© 2024 C itigroup Inc\n",
      "Terms & C onditions  (/terms disclaimer /terms disclaimerhome )\n",
      "Privacy (/US /JRS/portal/templat e.do?ID=Priv acy). \n",
      "\n",
      "The metadata is {'source': '../credit_card_products/AAdvantage MileUp Card - Airline Miles Credit Card _ Citi.com.pdf', 'page': 4} \n",
      "\n",
      "\n",
      "The output is: purchas es and an additional T hankY ou Point for every $1 p aid on tho se pur chas es. To earn c ash b ack, p ay at le ast the\n",
      "minimum p aymen t on time . And, with no annual f ee\n",
      ", the C iti Double C ash  Card offers ano ther gr eat\n",
      "reason for Cardmember s to use it f or their e veryday pur chas es.\n",
      "How do y ou redeem f or rewards?\n",
      "Citi Double C ash  Card lets you redeem y our poin ts in a v ariety of ways:\n",
      "What is the APR f or Citi Double C ash  Card?\n",
      "The standar d variable APR f or pur chas es on the C iti Double C ash® C ard is dependen t on a mar gin added t o the prime r ate.\n",
      "See Pricing De tails  (https: //www .citicards.com/cards/credit/displa yterms /ﬂow.action ?\n",
      "app=UNSOL &HKOP=57d896b fd2e418a14d7a7b13c051aa7c4034270e2f e20e77e f2438f166bd9b6e )\n",
      "Read mor e Citi Double C ash  Card FAQs\n",
      "What is the cr edit limit f or the Citi Double C ash  Card?\n",
      "As with an y credit c ard, the cr edit limit f or the C iti Double C ash  Card is de termined b ased on the C ardholder' s\n",
      "creditworthine ss. Learn mor e about the C iti Double C ash  Credit C ard.\n",
      "What's the dif ference between the Citi C ustom C ash  Card and the Citi Double C ash  Card?\n",
      "Custom C ash Double C ash\n",
      "With y our C iti Custom C ash  card you earn 5% c ash b ack on y our\n",
      "top eligible spend c ategory up t o $500 spen t each billing c ycle and\n",
      "1% ther eafter PL US an 1% unlimit ed cash b ack on all o ther\n",
      "purchas es. Cash b ack is e arned in the f orm o f ThankY ou Points. \n",
      "\n",
      "The metadata is {'source': '../credit_card_products/Citi® Double Cash Card - Cash Back Credit Card _ Citi.com.pdf', 'page': 3} \n",
      "\n",
      "\n"
     ]
    }
   ],
   "source": [
    "def print_output(docs):\n",
    "    for doc in docs:\n",
    "        print('The output is: {}. \\n\\nThe metadata is {} \\n\\n'.format(doc.page_content, doc.metadata)) \n",
    "docs = vectordb.similarity_search(\"what is Annual Percentage Rate (APR) for Purchases?\")\n",
    "print_output(docs)"
   ]
  },
  {
   "cell_type": "markdown",
   "id": "b3d065d1",
   "metadata": {},
   "source": [
    "## Use vector database(vectordb) as retriever\n",
    "\n",
    "### Configure retriever\n",
    "#### Use the similarity search capabilities of a vector store to facilitate retrieval"
   ]
  },
  {
   "cell_type": "code",
   "execution_count": 16,
   "id": "56864ee0",
   "metadata": {},
   "outputs": [],
   "source": [
    "retriever = vectordb.as_retriever(search_type=\"similarity\", search_kwargs={\"k\": 6})"
   ]
  },
  {
   "cell_type": "markdown",
   "id": "7af9c30c",
   "metadata": {},
   "source": [
    "## Configure LLM"
   ]
  },
  {
   "cell_type": "code",
   "execution_count": 17,
   "id": "65002083",
   "metadata": {},
   "outputs": [],
   "source": [
    "from langchain_openai import ChatOpenAI\n",
    "\n",
    "#initialize the LLM we'll use - OpenAI GPT 3.5 Turbo\n",
    "llm = ChatOpenAI(openai_api_key=OPENAI_API_KEY, model=\"gpt-3.5-turbo-0125\")"
   ]
  },
  {
   "cell_type": "markdown",
   "id": "2f78d508",
   "metadata": {},
   "source": [
    "### Define prompt with conversation history"
   ]
  },
  {
   "cell_type": "code",
   "execution_count": 18,
   "id": "b2571466",
   "metadata": {},
   "outputs": [],
   "source": [
    "from langchain.chains import create_history_aware_retriever\n",
    "from langchain_core.prompts import ChatPromptTemplate, MessagesPlaceholder\n",
    "\n",
    "system_prompt = \"\"\"Given the chat history and a recent user question \\\n",
    "generate a new standalone question \\\n",
    "that can be understood without the chat history. Do NOT answer the question, \\\n",
    "just reformulate it if needed or otherwise return it as is.\"\"\"\n",
    "\n",
    "prompt = ChatPromptTemplate.from_messages(\n",
    "    [\n",
    "        (\"system\", system_prompt),\n",
    "        MessagesPlaceholder(\"chat_history\"),\n",
    "        (\"human\", \"{input}\"),\n",
    "    ]\n",
    ")\n",
    "\n",
    "retriever_with_history = create_history_aware_retriever(\n",
    "    llm, retriever, prompt\n",
    ")"
   ]
  },
  {
   "cell_type": "markdown",
   "id": "9138965d",
   "metadata": {},
   "source": [
    "## Perform question answering"
   ]
  },
  {
   "cell_type": "code",
   "execution_count": 19,
   "id": "de24e30a",
   "metadata": {},
   "outputs": [],
   "source": [
    "from langchain.chains import create_retrieval_chain\n",
    "from langchain.chains.combine_documents import create_stuff_documents_chain\n",
    "\n",
    "qa_system_prompt = \"\"\"You are an assistant for question-answering tasks. \\\n",
    "Use the following pieces of retrieved context to answer the question. \\\n",
    "If you don't know the answer, just say that you don't know. \\\n",
    "Use three sentences maximum and keep the answer concise.\\\n",
    "\n",
    "{context}\"\"\"\n",
    "\n",
    "qa_prompt = ChatPromptTemplate.from_messages(\n",
    "    [\n",
    "        (\"system\", qa_system_prompt),\n",
    "        MessagesPlaceholder(\"chat_history\"),\n",
    "        (\"human\", \"{input}\"),\n",
    "    ]\n",
    ")\n",
    "\n",
    "\n",
    "question_answer_chain = create_stuff_documents_chain(llm, qa_prompt)\n",
    "\n",
    "rag_chain = create_retrieval_chain(retriever_with_history, question_answer_chain)"
   ]
  },
  {
   "cell_type": "code",
   "execution_count": 21,
   "id": "c159fc57",
   "metadata": {},
   "outputs": [
    {
     "name": "stdout",
     "output_type": "stream",
     "text": [
      "No, the Costco Anywhere Visa Card by Citi is exclusively for Costco members. If you do not already have a Costco membership, you can purchase one at Costco.com before applying for the Costco Anywhere credit card.\n"
     ]
    }
   ],
   "source": [
    "from langchain_core.messages import HumanMessage\n",
    "\n",
    "chat_history = []\n",
    "\n",
    "question = \"Can anyone apply for the Costco Anywhere Visa® Card by Citi?\"\n",
    "\n",
    "ai_msg_1 = rag_chain.invoke({\"input\": question, \"chat_history\": chat_history})\n",
    "\n",
    "chat_history.extend([HumanMessage(content=question), ai_msg_1[\"answer\"]])\n",
    "\n",
    "print(ai_msg_1[\"answer\"])"
   ]
  },
  {
   "cell_type": "code",
   "execution_count": 22,
   "id": "e0b43c5d",
   "metadata": {},
   "outputs": [
    {
     "name": "stdout",
     "output_type": "stream",
     "text": [
      "The Costco Anywhere Visa Card by Citi is a Visa credit card.\n"
     ]
    }
   ],
   "source": [
    "second_question = \"is it visa or castercard?\"\n",
    "\n",
    "ai_msg_2 = rag_chain.invoke({\"input\": second_question, \"chat_history\": chat_history})\n",
    "chat_history.extend([HumanMessage(content=question), ai_msg_2[\"answer\"]])\n",
    "print(ai_msg_2[\"answer\"])"
   ]
  }
 ],
 "metadata": {
  "kernelspec": {
   "display_name": "Python 3 (ipykernel)",
   "language": "python",
   "name": "python3"
  },
  "language_info": {
   "codemirror_mode": {
    "name": "ipython",
    "version": 3
   },
   "file_extension": ".py",
   "mimetype": "text/x-python",
   "name": "python",
   "nbconvert_exporter": "python",
   "pygments_lexer": "ipython3",
   "version": "3.10.13"
  }
 },
 "nbformat": 4,
 "nbformat_minor": 5
}
